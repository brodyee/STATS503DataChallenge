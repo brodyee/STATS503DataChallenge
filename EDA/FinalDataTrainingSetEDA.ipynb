{
 "cells": [
  {
   "cell_type": "markdown",
   "metadata": {},
   "source": [
    "# Data Setup"
   ]
  },
  {
   "cell_type": "code",
   "execution_count": 1,
   "metadata": {},
   "outputs": [],
   "source": [
    "import pandas as pd\n",
    "import numpy as np\n",
    "import matplotlib.pyplot as plt\n",
    "import seaborn as sns"
   ]
  },
  {
   "cell_type": "code",
   "execution_count": 2,
   "metadata": {},
   "outputs": [
    {
     "data": {
      "text/html": [
       "<div>\n",
       "<style scoped>\n",
       "    .dataframe tbody tr th:only-of-type {\n",
       "        vertical-align: middle;\n",
       "    }\n",
       "\n",
       "    .dataframe tbody tr th {\n",
       "        vertical-align: top;\n",
       "    }\n",
       "\n",
       "    .dataframe thead th {\n",
       "        text-align: right;\n",
       "    }\n",
       "</style>\n",
       "<table border=\"1\" class=\"dataframe\">\n",
       "  <thead>\n",
       "    <tr style=\"text-align: right;\">\n",
       "      <th></th>\n",
       "      <th>id</th>\n",
       "      <th>outcome</th>\n",
       "    </tr>\n",
       "  </thead>\n",
       "  <tbody>\n",
       "    <tr>\n",
       "      <th>7084</th>\n",
       "      <td>7085</td>\n",
       "      <td>1</td>\n",
       "    </tr>\n",
       "    <tr>\n",
       "      <th>7085</th>\n",
       "      <td>7086</td>\n",
       "      <td>1</td>\n",
       "    </tr>\n",
       "    <tr>\n",
       "      <th>7086</th>\n",
       "      <td>7087</td>\n",
       "      <td>1</td>\n",
       "    </tr>\n",
       "    <tr>\n",
       "      <th>7087</th>\n",
       "      <td>7088</td>\n",
       "      <td>0</td>\n",
       "    </tr>\n",
       "    <tr>\n",
       "      <th>7088</th>\n",
       "      <td>7089</td>\n",
       "      <td>0</td>\n",
       "    </tr>\n",
       "  </tbody>\n",
       "</table>\n",
       "</div>"
      ],
      "text/plain": [
       "        id  outcome\n",
       "7084  7085        1\n",
       "7085  7086        1\n",
       "7086  7087        1\n",
       "7087  7088        0\n",
       "7088  7089        0"
      ]
     },
     "execution_count": 2,
     "metadata": {},
     "output_type": "execute_result"
    }
   ],
   "source": [
    "response = pd.read_csv(\"../final_data/train_outcome.csv\")\n",
    "response.tail()"
   ]
  },
  {
   "cell_type": "code",
   "execution_count": 3,
   "metadata": {},
   "outputs": [
    {
     "data": {
      "text/html": [
       "<div>\n",
       "<style scoped>\n",
       "    .dataframe tbody tr th:only-of-type {\n",
       "        vertical-align: middle;\n",
       "    }\n",
       "\n",
       "    .dataframe tbody tr th {\n",
       "        vertical-align: top;\n",
       "    }\n",
       "\n",
       "    .dataframe thead th {\n",
       "        text-align: right;\n",
       "    }\n",
       "</style>\n",
       "<table border=\"1\" class=\"dataframe\">\n",
       "  <thead>\n",
       "    <tr style=\"text-align: right;\">\n",
       "      <th></th>\n",
       "      <th>RecordID</th>\n",
       "      <th>Age</th>\n",
       "      <th>Gender</th>\n",
       "      <th>AdmissionType</th>\n",
       "      <th>ALP_mean</th>\n",
       "      <th>ALP_max</th>\n",
       "      <th>ALP_min</th>\n",
       "      <th>ALP_range</th>\n",
       "      <th>ALP_changeStoF</th>\n",
       "      <th>ALP_numTest</th>\n",
       "      <th>...</th>\n",
       "      <th>noLabel_min</th>\n",
       "      <th>noLabel_range</th>\n",
       "      <th>noLabel_changeStoF</th>\n",
       "      <th>noLabel_numTest</th>\n",
       "      <th>pH_mean</th>\n",
       "      <th>pH_max</th>\n",
       "      <th>pH_min</th>\n",
       "      <th>pH_range</th>\n",
       "      <th>pH_changeStoF</th>\n",
       "      <th>pH_numTest</th>\n",
       "    </tr>\n",
       "  </thead>\n",
       "  <tbody>\n",
       "    <tr>\n",
       "      <th>7084</th>\n",
       "      <td>7085</td>\n",
       "      <td>65</td>\n",
       "      <td>0</td>\n",
       "      <td>3</td>\n",
       "      <td>327.213</td>\n",
       "      <td>523.99</td>\n",
       "      <td>218.71</td>\n",
       "      <td>305.28</td>\n",
       "      <td>305.28</td>\n",
       "      <td>3.0</td>\n",
       "      <td>...</td>\n",
       "      <td>NaN</td>\n",
       "      <td>NaN</td>\n",
       "      <td>NaN</td>\n",
       "      <td>NaN</td>\n",
       "      <td>9.56908</td>\n",
       "      <td>7.42</td>\n",
       "      <td>7.16</td>\n",
       "      <td>0.26</td>\n",
       "      <td>0.21</td>\n",
       "      <td>13.0</td>\n",
       "    </tr>\n",
       "    <tr>\n",
       "      <th>7085</th>\n",
       "      <td>7086</td>\n",
       "      <td>65</td>\n",
       "      <td>1</td>\n",
       "      <td>2</td>\n",
       "      <td>NaN</td>\n",
       "      <td>NaN</td>\n",
       "      <td>NaN</td>\n",
       "      <td>NaN</td>\n",
       "      <td>NaN</td>\n",
       "      <td>NaN</td>\n",
       "      <td>...</td>\n",
       "      <td>NaN</td>\n",
       "      <td>NaN</td>\n",
       "      <td>NaN</td>\n",
       "      <td>NaN</td>\n",
       "      <td>15.68350</td>\n",
       "      <td>7.43</td>\n",
       "      <td>7.37</td>\n",
       "      <td>0.06</td>\n",
       "      <td>0.02</td>\n",
       "      <td>10.0</td>\n",
       "    </tr>\n",
       "    <tr>\n",
       "      <th>7086</th>\n",
       "      <td>7087</td>\n",
       "      <td>71</td>\n",
       "      <td>1</td>\n",
       "      <td>1</td>\n",
       "      <td>21.180</td>\n",
       "      <td>21.18</td>\n",
       "      <td>21.18</td>\n",
       "      <td>0.00</td>\n",
       "      <td>0.00</td>\n",
       "      <td>1.0</td>\n",
       "      <td>...</td>\n",
       "      <td>NaN</td>\n",
       "      <td>NaN</td>\n",
       "      <td>NaN</td>\n",
       "      <td>NaN</td>\n",
       "      <td>12.07170</td>\n",
       "      <td>7.45</td>\n",
       "      <td>7.20</td>\n",
       "      <td>0.25</td>\n",
       "      <td>0.16</td>\n",
       "      <td>18.0</td>\n",
       "    </tr>\n",
       "    <tr>\n",
       "      <th>7087</th>\n",
       "      <td>7088</td>\n",
       "      <td>73</td>\n",
       "      <td>1</td>\n",
       "      <td>2</td>\n",
       "      <td>67.710</td>\n",
       "      <td>67.71</td>\n",
       "      <td>67.71</td>\n",
       "      <td>0.00</td>\n",
       "      <td>0.00</td>\n",
       "      <td>1.0</td>\n",
       "      <td>...</td>\n",
       "      <td>NaN</td>\n",
       "      <td>NaN</td>\n",
       "      <td>NaN</td>\n",
       "      <td>NaN</td>\n",
       "      <td>19.76160</td>\n",
       "      <td>7.45</td>\n",
       "      <td>7.35</td>\n",
       "      <td>0.10</td>\n",
       "      <td>-0.08</td>\n",
       "      <td>6.0</td>\n",
       "    </tr>\n",
       "    <tr>\n",
       "      <th>7088</th>\n",
       "      <td>7089</td>\n",
       "      <td>37</td>\n",
       "      <td>0</td>\n",
       "      <td>4</td>\n",
       "      <td>NaN</td>\n",
       "      <td>NaN</td>\n",
       "      <td>NaN</td>\n",
       "      <td>NaN</td>\n",
       "      <td>NaN</td>\n",
       "      <td>NaN</td>\n",
       "      <td>...</td>\n",
       "      <td>NaN</td>\n",
       "      <td>NaN</td>\n",
       "      <td>NaN</td>\n",
       "      <td>NaN</td>\n",
       "      <td>NaN</td>\n",
       "      <td>NaN</td>\n",
       "      <td>NaN</td>\n",
       "      <td>NaN</td>\n",
       "      <td>NaN</td>\n",
       "      <td>NaN</td>\n",
       "    </tr>\n",
       "  </tbody>\n",
       "</table>\n",
       "<p>5 rows × 232 columns</p>\n",
       "</div>"
      ],
      "text/plain": [
       "      RecordID  Age  Gender  AdmissionType  ALP_mean  ALP_max  ALP_min  \\\n",
       "7084      7085   65       0              3   327.213   523.99   218.71   \n",
       "7085      7086   65       1              2       NaN      NaN      NaN   \n",
       "7086      7087   71       1              1    21.180    21.18    21.18   \n",
       "7087      7088   73       1              2    67.710    67.71    67.71   \n",
       "7088      7089   37       0              4       NaN      NaN      NaN   \n",
       "\n",
       "      ALP_range  ALP_changeStoF  ALP_numTest  ...  noLabel_min  noLabel_range  \\\n",
       "7084     305.28          305.28          3.0  ...          NaN            NaN   \n",
       "7085        NaN             NaN          NaN  ...          NaN            NaN   \n",
       "7086       0.00            0.00          1.0  ...          NaN            NaN   \n",
       "7087       0.00            0.00          1.0  ...          NaN            NaN   \n",
       "7088        NaN             NaN          NaN  ...          NaN            NaN   \n",
       "\n",
       "      noLabel_changeStoF  noLabel_numTest   pH_mean  pH_max  pH_min  pH_range  \\\n",
       "7084                 NaN              NaN   9.56908    7.42    7.16      0.26   \n",
       "7085                 NaN              NaN  15.68350    7.43    7.37      0.06   \n",
       "7086                 NaN              NaN  12.07170    7.45    7.20      0.25   \n",
       "7087                 NaN              NaN  19.76160    7.45    7.35      0.10   \n",
       "7088                 NaN              NaN       NaN     NaN     NaN       NaN   \n",
       "\n",
       "      pH_changeStoF  pH_numTest  \n",
       "7084           0.21        13.0  \n",
       "7085           0.02        10.0  \n",
       "7086           0.16        18.0  \n",
       "7087          -0.08         6.0  \n",
       "7088            NaN         NaN  \n",
       "\n",
       "[5 rows x 232 columns]"
      ]
     },
     "execution_count": 3,
     "metadata": {},
     "output_type": "execute_result"
    }
   ],
   "source": [
    "data = pd.read_csv(\"../trainData.csv\")\n",
    "data = data.iloc[:,:-1]\n",
    "data.tail()"
   ]
  },
  {
   "cell_type": "markdown",
   "metadata": {},
   "source": [
    "### Splitting Data into Training and Testing sets"
   ]
  },
  {
   "cell_type": "code",
   "execution_count": 4,
   "metadata": {},
   "outputs": [
    {
     "data": {
      "text/plain": [
       "array([4101., 6712., 3157., ..., 1767., 6283., 3952.])"
      ]
     },
     "execution_count": 4,
     "metadata": {},
     "output_type": "execute_result"
    }
   ],
   "source": [
    "trainIndicies = np.genfromtxt(\"../trainInd.txt\") - 1\n",
    "trainIndicies"
   ]
  },
  {
   "cell_type": "code",
   "execution_count": 5,
   "metadata": {},
   "outputs": [],
   "source": [
    "X_train, y_train = data.iloc[trainIndicies,:].sort_index(), response.iloc[trainIndicies,:].sort_index()"
   ]
  },
  {
   "cell_type": "code",
   "execution_count": 6,
   "metadata": {},
   "outputs": [],
   "source": [
    "X_test, y_test = data.drop(trainIndicies), response.drop(trainIndicies)"
   ]
  },
  {
   "cell_type": "code",
   "execution_count": 7,
   "metadata": {},
   "outputs": [
    {
     "name": "stdout",
     "output_type": "stream",
     "text": [
      "(4962, 232) (4962, 2) (2127, 232) (2127, 2)\n"
     ]
    }
   ],
   "source": [
    "print(X_train.shape, y_train.shape, X_test.shape, y_test.shape)"
   ]
  },
  {
   "cell_type": "markdown",
   "metadata": {},
   "source": [
    "# EDA for Splitting by `AdmissionType`"
   ]
  },
  {
   "cell_type": "code",
   "execution_count": 8,
   "metadata": {},
   "outputs": [
    {
     "data": {
      "text/html": [
       "<div>\n",
       "<style scoped>\n",
       "    .dataframe tbody tr th:only-of-type {\n",
       "        vertical-align: middle;\n",
       "    }\n",
       "\n",
       "    .dataframe tbody tr th {\n",
       "        vertical-align: top;\n",
       "    }\n",
       "\n",
       "    .dataframe thead th {\n",
       "        text-align: right;\n",
       "    }\n",
       "</style>\n",
       "<table border=\"1\" class=\"dataframe\">\n",
       "  <thead>\n",
       "    <tr style=\"text-align: right;\">\n",
       "      <th></th>\n",
       "      <th></th>\n",
       "      <th>Age</th>\n",
       "      <th>Gender</th>\n",
       "      <th>ALP_mean</th>\n",
       "      <th>ALP_max</th>\n",
       "      <th>ALP_min</th>\n",
       "      <th>ALP_range</th>\n",
       "      <th>ALP_changeStoF</th>\n",
       "      <th>ALP_numTest</th>\n",
       "      <th>ALT_mean</th>\n",
       "      <th>ALT_max</th>\n",
       "      <th>...</th>\n",
       "      <th>noLabel_min</th>\n",
       "      <th>noLabel_range</th>\n",
       "      <th>noLabel_changeStoF</th>\n",
       "      <th>noLabel_numTest</th>\n",
       "      <th>pH_mean</th>\n",
       "      <th>pH_max</th>\n",
       "      <th>pH_min</th>\n",
       "      <th>pH_range</th>\n",
       "      <th>pH_changeStoF</th>\n",
       "      <th>pH_numTest</th>\n",
       "    </tr>\n",
       "    <tr>\n",
       "      <th>AdmissionType</th>\n",
       "      <th>RecordID</th>\n",
       "      <th></th>\n",
       "      <th></th>\n",
       "      <th></th>\n",
       "      <th></th>\n",
       "      <th></th>\n",
       "      <th></th>\n",
       "      <th></th>\n",
       "      <th></th>\n",
       "      <th></th>\n",
       "      <th></th>\n",
       "      <th></th>\n",
       "      <th></th>\n",
       "      <th></th>\n",
       "      <th></th>\n",
       "      <th></th>\n",
       "      <th></th>\n",
       "      <th></th>\n",
       "      <th></th>\n",
       "      <th></th>\n",
       "      <th></th>\n",
       "      <th></th>\n",
       "    </tr>\n",
       "  </thead>\n",
       "  <tbody>\n",
       "    <tr>\n",
       "      <th rowspan=\"5\" valign=\"top\">1</th>\n",
       "      <th>17</th>\n",
       "      <td>40</td>\n",
       "      <td>0</td>\n",
       "      <td>85.515</td>\n",
       "      <td>86.25</td>\n",
       "      <td>84.78</td>\n",
       "      <td>1.47</td>\n",
       "      <td>-1.47</td>\n",
       "      <td>2.0</td>\n",
       "      <td>159.225</td>\n",
       "      <td>73.71</td>\n",
       "      <td>...</td>\n",
       "      <td>3.4</td>\n",
       "      <td>0.0</td>\n",
       "      <td>0.0</td>\n",
       "      <td>1.0</td>\n",
       "      <td>16.7066</td>\n",
       "      <td>7.49</td>\n",
       "      <td>7.47</td>\n",
       "      <td>0.02</td>\n",
       "      <td>0.00</td>\n",
       "      <td>5.0</td>\n",
       "    </tr>\n",
       "    <tr>\n",
       "      <th>31</th>\n",
       "      <td>47</td>\n",
       "      <td>1</td>\n",
       "      <td>88.020</td>\n",
       "      <td>88.02</td>\n",
       "      <td>88.02</td>\n",
       "      <td>0.00</td>\n",
       "      <td>0.00</td>\n",
       "      <td>1.0</td>\n",
       "      <td>236.530</td>\n",
       "      <td>148.51</td>\n",
       "      <td>...</td>\n",
       "      <td>NaN</td>\n",
       "      <td>NaN</td>\n",
       "      <td>NaN</td>\n",
       "      <td>NaN</td>\n",
       "      <td>17.6505</td>\n",
       "      <td>7.47</td>\n",
       "      <td>7.38</td>\n",
       "      <td>0.09</td>\n",
       "      <td>-0.03</td>\n",
       "      <td>7.0</td>\n",
       "    </tr>\n",
       "    <tr>\n",
       "      <th>34</th>\n",
       "      <td>57</td>\n",
       "      <td>1</td>\n",
       "      <td>100.700</td>\n",
       "      <td>100.70</td>\n",
       "      <td>100.70</td>\n",
       "      <td>0.00</td>\n",
       "      <td>0.00</td>\n",
       "      <td>1.0</td>\n",
       "      <td>110.870</td>\n",
       "      <td>10.17</td>\n",
       "      <td>...</td>\n",
       "      <td>NaN</td>\n",
       "      <td>NaN</td>\n",
       "      <td>NaN</td>\n",
       "      <td>NaN</td>\n",
       "      <td>40.0480</td>\n",
       "      <td>7.37</td>\n",
       "      <td>7.35</td>\n",
       "      <td>0.02</td>\n",
       "      <td>-0.02</td>\n",
       "      <td>3.0</td>\n",
       "    </tr>\n",
       "    <tr>\n",
       "      <th>35</th>\n",
       "      <td>68</td>\n",
       "      <td>1</td>\n",
       "      <td>NaN</td>\n",
       "      <td>NaN</td>\n",
       "      <td>NaN</td>\n",
       "      <td>NaN</td>\n",
       "      <td>NaN</td>\n",
       "      <td>NaN</td>\n",
       "      <td>NaN</td>\n",
       "      <td>NaN</td>\n",
       "      <td>...</td>\n",
       "      <td>NaN</td>\n",
       "      <td>NaN</td>\n",
       "      <td>NaN</td>\n",
       "      <td>NaN</td>\n",
       "      <td>NaN</td>\n",
       "      <td>NaN</td>\n",
       "      <td>NaN</td>\n",
       "      <td>NaN</td>\n",
       "      <td>NaN</td>\n",
       "      <td>NaN</td>\n",
       "    </tr>\n",
       "    <tr>\n",
       "      <th>44</th>\n",
       "      <td>68</td>\n",
       "      <td>1</td>\n",
       "      <td>NaN</td>\n",
       "      <td>NaN</td>\n",
       "      <td>NaN</td>\n",
       "      <td>NaN</td>\n",
       "      <td>NaN</td>\n",
       "      <td>NaN</td>\n",
       "      <td>NaN</td>\n",
       "      <td>NaN</td>\n",
       "      <td>...</td>\n",
       "      <td>NaN</td>\n",
       "      <td>NaN</td>\n",
       "      <td>NaN</td>\n",
       "      <td>NaN</td>\n",
       "      <td>NaN</td>\n",
       "      <td>NaN</td>\n",
       "      <td>NaN</td>\n",
       "      <td>NaN</td>\n",
       "      <td>NaN</td>\n",
       "      <td>NaN</td>\n",
       "    </tr>\n",
       "  </tbody>\n",
       "</table>\n",
       "<p>5 rows × 230 columns</p>\n",
       "</div>"
      ],
      "text/plain": [
       "                        Age  Gender  ALP_mean  ALP_max  ALP_min  ALP_range  \\\n",
       "AdmissionType RecordID                                                       \n",
       "1             17         40       0    85.515    86.25    84.78       1.47   \n",
       "              31         47       1    88.020    88.02    88.02       0.00   \n",
       "              34         57       1   100.700   100.70   100.70       0.00   \n",
       "              35         68       1       NaN      NaN      NaN        NaN   \n",
       "              44         68       1       NaN      NaN      NaN        NaN   \n",
       "\n",
       "                        ALP_changeStoF  ALP_numTest  ALT_mean  ALT_max  ...  \\\n",
       "AdmissionType RecordID                                                  ...   \n",
       "1             17                 -1.47          2.0   159.225    73.71  ...   \n",
       "              31                  0.00          1.0   236.530   148.51  ...   \n",
       "              34                  0.00          1.0   110.870    10.17  ...   \n",
       "              35                   NaN          NaN       NaN      NaN  ...   \n",
       "              44                   NaN          NaN       NaN      NaN  ...   \n",
       "\n",
       "                        noLabel_min  noLabel_range  noLabel_changeStoF  \\\n",
       "AdmissionType RecordID                                                   \n",
       "1             17                3.4            0.0                 0.0   \n",
       "              31                NaN            NaN                 NaN   \n",
       "              34                NaN            NaN                 NaN   \n",
       "              35                NaN            NaN                 NaN   \n",
       "              44                NaN            NaN                 NaN   \n",
       "\n",
       "                        noLabel_numTest  pH_mean  pH_max  pH_min  pH_range  \\\n",
       "AdmissionType RecordID                                                       \n",
       "1             17                    1.0  16.7066    7.49    7.47      0.02   \n",
       "              31                    NaN  17.6505    7.47    7.38      0.09   \n",
       "              34                    NaN  40.0480    7.37    7.35      0.02   \n",
       "              35                    NaN      NaN     NaN     NaN       NaN   \n",
       "              44                    NaN      NaN     NaN     NaN       NaN   \n",
       "\n",
       "                        pH_changeStoF  pH_numTest  \n",
       "AdmissionType RecordID                             \n",
       "1             17                 0.00         5.0  \n",
       "              31                -0.03         7.0  \n",
       "              34                -0.02         3.0  \n",
       "              35                  NaN         NaN  \n",
       "              44                  NaN         NaN  \n",
       "\n",
       "[5 rows x 230 columns]"
      ]
     },
     "execution_count": 8,
     "metadata": {},
     "output_type": "execute_result"
    }
   ],
   "source": [
    "X_train = X_train.set_index([\"AdmissionType\", \"RecordID\"]).sort_index()\n",
    "X_train.head()"
   ]
  },
  {
   "cell_type": "markdown",
   "metadata": {},
   "source": [
    "### Checking for Columns with all `NaN` for Each `AdmissionType`  "
   ]
  },
  {
   "cell_type": "code",
   "execution_count": 9,
   "metadata": {},
   "outputs": [],
   "source": [
    "## Getting percent NaN \n",
    "testNames = [\"ALP\", \"ALT\", \"AST\",\"Albumin\",\"BUN\",\"Bilirubin\",\n",
    "             \"Cholesterol\",\"Creatinine\",\"DiasABP\",\"FiO2\",\"GCS\",\n",
    "             \"Glucose\",\"HCO3\",\"HCT\",\"HR\",\"K\",\"Lactate\",\"MAP\",\n",
    "             \"MechVent\",\"Mg\",\"NIDiasABP\",\"NIMAP\",\"NISysABP\",\"Na\",\n",
    "             \"PaCO2\",\"PaO2\",\"Platelets\",\"RespRate\",\"SAPS\",\"SaO2\",\n",
    "             \"SysABP\",\"Temp\",\"TroponinI\",\"TroponinT\",\"Urine\",\"WBC\",\n",
    "             \"noLabel\",\"pH\"]\n",
    "\n",
    "cols = X_train.columns[2:]\n",
    "colNum = 0\n",
    "percents = []\n",
    "for i in range(1, 5):\n",
    "    percents.append([])\n",
    "    colNum = 0\n",
    "    for test in testNames:\n",
    "        p = X_train.loc[i,cols[colNum]].isna().sum() / X_train.loc[i,cols[colNum]].shape[0] # number of NaN / total\n",
    "        percents[i - 1].append(p)\n",
    "        colNum += 6            "
   ]
  },
  {
   "cell_type": "code",
   "execution_count": 10,
   "metadata": {},
   "outputs": [],
   "source": [
    "AdmissionType1 = pd.DataFrame(np.array(percents[0])*100, index = testNames).sort_values(by = 0, ascending=False)\n",
    "AdmissionType2 = pd.DataFrame(np.array(percents[1])*100, index = testNames).sort_values(by = 0, ascending=False)\n",
    "AdmissionType3 = pd.DataFrame(np.array(percents[2])*100, index = testNames).sort_values(by = 0, ascending=False)\n",
    "AdmissionType4 = pd.DataFrame(np.array(percents[3])*100, index = testNames).sort_values(by = 0, ascending=False)"
   ]
  },
  {
   "cell_type": "code",
   "execution_count": 11,
   "metadata": {},
   "outputs": [
    {
     "data": {
      "text/plain": [
       "(array([ 0,  1,  2,  3,  4,  5,  6,  7,  8,  9, 10, 11, 12, 13, 14, 15, 16,\n",
       "        17, 18, 19, 20, 21, 22, 23, 24, 25, 26, 27, 28, 29, 30, 31, 32, 33,\n",
       "        34, 35, 36, 37]),\n",
       " <a list of 38 Text xticklabel objects>)"
      ]
     },
     "execution_count": 11,
     "metadata": {},
     "output_type": "execute_result"
    },
    {
     "data": {
      "image/png": "[encoded data removed]",
      "text/plain": [
       "<Figure size 1008x504 with 1 Axes>"
      ]
     },
     "metadata": {
      "needs_background": "light"
     },
     "output_type": "display_data"
    }
   ],
   "source": [
    "plt.figure(figsize=(14,7))\n",
    "sns.barplot(AdmissionType1.index, AdmissionType1[0])\n",
    "plt.title(\"Percent NaN for AdmissionType 1\")\n",
    "plt.ylabel(\"Percent NaN\")\n",
    "plt.xticks(rotation=45)"
   ]
  },
  {
   "cell_type": "code",
   "execution_count": 12,
   "metadata": {},
   "outputs": [
    {
     "data": {
      "text/plain": [
       "(array([ 0,  1,  2,  3,  4,  5,  6,  7,  8,  9, 10, 11, 12, 13, 14, 15, 16,\n",
       "        17, 18, 19, 20, 21, 22, 23, 24, 25, 26, 27, 28, 29, 30, 31, 32, 33,\n",
       "        34, 35, 36, 37]),\n",
       " <a list of 38 Text xticklabel objects>)"
      ]
     },
     "execution_count": 12,
     "metadata": {},
     "output_type": "execute_result"
    },
    {
     "data": {
      "image/png": "[encoded data removed]",
      "text/plain": [
       "<Figure size 1008x504 with 1 Axes>"
      ]
     },
     "metadata": {
      "needs_background": "light"
     },
     "output_type": "display_data"
    }
   ],
   "source": [
    "plt.figure(figsize=(14,7))\n",
    "sns.barplot(AdmissionType2.index, AdmissionType2[0])\n",
    "plt.title(\"Percent NaN for AdmissionType 2\")\n",
    "plt.ylabel(\"Percent NaN\")\n",
    "plt.xticks(rotation=45)"
   ]
  },
  {
   "cell_type": "code",
   "execution_count": 13,
   "metadata": {},
   "outputs": [
    {
     "data": {
      "text/plain": [
       "(array([ 0,  1,  2,  3,  4,  5,  6,  7,  8,  9, 10, 11, 12, 13, 14, 15, 16,\n",
       "        17, 18, 19, 20, 21, 22, 23, 24, 25, 26, 27, 28, 29, 30, 31, 32, 33,\n",
       "        34, 35, 36, 37]),\n",
       " <a list of 38 Text xticklabel objects>)"
      ]
     },
     "execution_count": 13,
     "metadata": {},
     "output_type": "execute_result"
    },
    {
     "data": {
      "image/png": "[encoded data removed]",
      "text/plain": [
       "<Figure size 1008x504 with 1 Axes>"
      ]
     },
     "metadata": {
      "needs_background": "light"
     },
     "output_type": "display_data"
    }
   ],
   "source": [
    "plt.figure(figsize=(14,7))\n",
    "sns.barplot(AdmissionType3.index, AdmissionType3[0]) \n",
    "plt.title(\"Percent NaN for AdmissionType 3\")\n",
    "plt.ylabel(\"Percent NaN\")\n",
    "plt.xticks(rotation=45)"
   ]
  },
  {
   "cell_type": "code",
   "execution_count": 14,
   "metadata": {},
   "outputs": [
    {
     "data": {
      "text/plain": [
       "(array([ 0,  1,  2,  3,  4,  5,  6,  7,  8,  9, 10, 11, 12, 13, 14, 15, 16,\n",
       "        17, 18, 19, 20, 21, 22, 23, 24, 25, 26, 27, 28, 29, 30, 31, 32, 33,\n",
       "        34, 35, 36, 37]),\n",
       " <a list of 38 Text xticklabel objects>)"
      ]
     },
     "execution_count": 14,
     "metadata": {},
     "output_type": "execute_result"
    },
    {
     "data": {
      "image/png": "[encoded data removed]",
      "text/plain": [
       "<Figure size 1008x504 with 1 Axes>"
      ]
     },
     "metadata": {
      "needs_background": "light"
     },
     "output_type": "display_data"
    }
   ],
   "source": [
    "plt.figure(figsize=(14,7))\n",
    "sns.barplot(AdmissionType4.index, AdmissionType4[0])\n",
    "plt.title(\"Percent NaN for AdmissionType 4\")\n",
    "plt.ylabel(\"Percent NaN\")\n",
    "plt.xticks(rotation=45)"
   ]
  },
  {
   "cell_type": "markdown",
   "metadata": {},
   "source": [
    "We can see for each `admissionType` there are many variables that have a lot of `NaN`. We can drop the ones over a particular percent, then run a dimention reduction technique. Or we can keep all them, then run dimention reduction. Either way, we may need to fill the `NaN`'s with some value that is not in any of the variable values. This may be easier if we standardize/normalize our data first."
   ]
  },
  {
   "cell_type": "markdown",
   "metadata": {},
   "source": [
    "# EDA for Clustering then Splitting Based on Clusters"
   ]
  },
  {
   "cell_type": "code",
   "execution_count": null,
   "metadata": {},
   "outputs": [],
   "source": []
  }
 ],
 "metadata": {
  "kernelspec": {
   "display_name": "Python 3",
   "language": "python",
   "name": "python3"
  },
  "language_info": {
   "codemirror_mode": {
    "name": "ipython",
    "version": 3
   },
   "file_extension": ".py",
   "mimetype": "text/x-python",
   "name": "python",
   "nbconvert_exporter": "python",
   "pygments_lexer": "ipython3",
   "version": "3.7.6"
  }
 },
 "nbformat": 4,
 "nbformat_minor": 4
}
